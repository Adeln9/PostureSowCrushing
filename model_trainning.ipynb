{
 "cells": [
  {
   "cell_type": "code",
   "execution_count": null,
   "id": "9f21c681-52e2-4911-8f5a-b105c1e8207f",
   "metadata": {},
   "outputs": [],
   "source": [
    "###import library and check hardware\n",
    "import torch\n",
    "import os\n",
    "device = torch.device('cuda' if torch.cuda.is_available() else 'cpu')\n",
    "deviceNUM = torch.cuda.device_count()\n",
    "print('Using device:', device)\n",
    "print('Device number:',deviceNUM)"
   ]
  },
  {
   "cell_type": "code",
   "execution_count": null,
   "id": "0c89a066-ad77-49c7-886a-fc34b6372020",
   "metadata": {},
   "outputs": [],
   "source": [
    "##change directory\n",
    "os.chdir(r\"D:\\PigMl\\Posturemodel\")\n",
    "os.getcwd()\n",
    "\n",
    "#prepare data\n",
    "import yaml\n",
    "config = {'path': 'D:\\\\PigMl\\\\Posturemodel',\n",
    "         'train': 'D:\\\\PigMl\\\\Posturemodel\\\\train',\n",
    "         'val': 'D:\\\\PigMl\\\\Posturemodel\\\\valid',\n",
    "         'nc': 5,\n",
    "         'names': ['stand','sit','vlay','l_llay','r_llay']}\n",
    " \n",
    "with open(\"data.yaml\", \"w\") as file:\n",
    "   yaml.dump(config, file, default_flow_style=False)"
   ]
  },
  {
   "cell_type": "code",
   "execution_count": null,
   "id": "53f26302-6a8a-42b4-9969-563c7e94f873",
   "metadata": {},
   "outputs": [],
   "source": [
    "import ultralytics\n",
    "torch.cuda.empty_cache()\n",
    "ultralytics.checks()"
   ]
  },
  {
   "cell_type": "code",
   "execution_count": null,
   "id": "b0546a22-dd88-4f15-a70f-5eca392f1667",
   "metadata": {},
   "outputs": [],
   "source": [
    "print('ultalytic',ultralytics.__version__)\n",
    "print('pytorch',torch.__version__)\n",
    "print('CUDA',torch.version.cuda)"
   ]
  },
  {
   "cell_type": "code",
   "execution_count": null,
   "id": "36c15234-688e-42e0-8a5c-426c20685e11",
   "metadata": {},
   "outputs": [],
   "source": [
    "### Posture detection model traning, five-fold cv of each model size \n",
    "\n",
    "from ultralytics import YOLO\n",
    "\n",
    "#pre-train load\n",
    "model = YOLO('yolov8s.pt')\n",
    "\n",
    "#training\n",
    "result = model.train(data = 'data.yaml' ,\n",
    "                     epochs = 200, imgsz = 640, batch = 16 , name = 'thesis_cv4s', patience = 200)"
   ]
  }
 ],
 "metadata": {
  "kernelspec": {
   "display_name": "Python 3 (ipykernel)",
   "language": "python",
   "name": "python3"
  },
  "language_info": {
   "codemirror_mode": {
    "name": "ipython",
    "version": 3
   },
   "file_extension": ".py",
   "mimetype": "text/x-python",
   "name": "python",
   "nbconvert_exporter": "python",
   "pygments_lexer": "ipython3",
   "version": "3.10.11"
  }
 },
 "nbformat": 4,
 "nbformat_minor": 5
}
